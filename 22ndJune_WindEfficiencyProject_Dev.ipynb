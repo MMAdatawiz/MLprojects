{
  "nbformat": 4,
  "nbformat_minor": 0,
  "metadata": {
    "colab": {
      "provenance": []
    },
    "kernelspec": {
      "name": "python3",
      "display_name": "Python 3"
    },
    "language_info": {
      "name": "python"
    }
  },
  "cells": [
    {
      "cell_type": "markdown",
      "source": [
        "# **Link to the dataset: https://drive.google.com/file/d/1EBY8LrGvbOyI_gDNgNIMa_L9zMz56y7H/view?usp=sharing**"
      ],
      "metadata": {
        "id": "NTdDGE-pUzQU"
      }
    },
    {
      "cell_type": "markdown",
      "source": [
        "<hr>\n",
        "\n",
        "# **Step 1 - Importing the libraries**"
      ],
      "metadata": {
        "id": "tyuPLmyEZHJ4"
      }
    },
    {
      "cell_type": "markdown",
      "source": [
        "**Configuration Libraries**"
      ],
      "metadata": {
        "id": "u4z9Dzj1Zh0p"
      }
    },
    {
      "cell_type": "code",
      "execution_count": null,
      "metadata": {
        "id": "acTYmRbHUJgr"
      },
      "outputs": [],
      "source": [
        "import warnings\n",
        "warnings.filterwarnings(\"ignore\")"
      ]
    },
    {
      "cell_type": "markdown",
      "source": [
        "**Classical Data Libraries**"
      ],
      "metadata": {
        "id": "AkZugVXFZsLw"
      }
    },
    {
      "cell_type": "code",
      "source": [
        "import numpy as np\n",
        "import pandas as pd\n",
        "import seaborn as sns\n",
        "import matplotlib.pyplot as plt"
      ],
      "metadata": {
        "id": "YXVRNsVPZrdP"
      },
      "execution_count": null,
      "outputs": []
    },
    {
      "cell_type": "markdown",
      "source": [
        "**Machine Learning Libraries**"
      ],
      "metadata": {
        "id": "eQON-qmeZ0Zi"
      }
    },
    {
      "cell_type": "code",
      "source": [
        "from sklearn.metrics import *\n",
        "from sklearn.decomposition import PCA\n",
        "from sklearn.tree import DecisionTreeRegressor\n",
        "from sklearn.preprocessing import StandardScaler\n",
        "from sklearn.linear_model import LinearRegression\n",
        "from sklearn.ensemble import RandomForestRegressor\n",
        "from sklearn.model_selection import train_test_split"
      ],
      "metadata": {
        "id": "mmyd5Fz0ZzqE"
      },
      "execution_count": 45,
      "outputs": []
    },
    {
      "cell_type": "markdown",
      "source": [
        "<hr>\n",
        "\n",
        "# **Step 2 - Loading up the data and inspection**"
      ],
      "metadata": {
        "id": "U7iKhAWHbVkA"
      }
    },
    {
      "cell_type": "markdown",
      "source": [
        "**Data Loading**"
      ],
      "metadata": {
        "id": "XMMWvSdabbo4"
      }
    },
    {
      "cell_type": "code",
      "source": [
        "df = pd.read_csv(\"/content/drive/MyDrive/Datasets/wind_data.csv\")"
      ],
      "metadata": {
        "id": "QIWROQqMa9ML"
      },
      "execution_count": null,
      "outputs": []
    },
    {
      "cell_type": "markdown",
      "source": [
        "**Data Inspection phase**"
      ],
      "metadata": {
        "id": "AWXmYoMsboBu"
      }
    },
    {
      "cell_type": "code",
      "source": [
        "df.head().style.set_properties(\n",
        "    **{\n",
        "        \"background-color\": \"teal\",\n",
        "        \"border-color\":\"black\",\n",
        "        \"border-style\":\"solid\"\n",
        "    }\n",
        ")"
      ],
      "metadata": {
        "colab": {
          "base_uri": "https://localhost:8080/",
          "height": 412
        },
        "id": "B4kvhPJ9bjrp",
        "outputId": "e6be56ca-7f5c-4706-9555-5f5a76e95613"
      },
      "execution_count": 28,
      "outputs": [
        {
          "output_type": "execute_result",
          "data": {
            "text/plain": [
              "<pandas.io.formats.style.Styler at 0x7a0d9b4d6d10>"
            ],
            "text/html": [
              "<style type=\"text/css\">\n",
              "#T_d4083_row0_col0, #T_d4083_row0_col1, #T_d4083_row0_col2, #T_d4083_row0_col3, #T_d4083_row0_col4, #T_d4083_row0_col5, #T_d4083_row0_col6, #T_d4083_row0_col7, #T_d4083_row0_col8, #T_d4083_row0_col9, #T_d4083_row0_col10, #T_d4083_row0_col11, #T_d4083_row0_col12, #T_d4083_row0_col13, #T_d4083_row0_col14, #T_d4083_row0_col15, #T_d4083_row1_col0, #T_d4083_row1_col1, #T_d4083_row1_col2, #T_d4083_row1_col3, #T_d4083_row1_col4, #T_d4083_row1_col5, #T_d4083_row1_col6, #T_d4083_row1_col7, #T_d4083_row1_col8, #T_d4083_row1_col9, #T_d4083_row1_col10, #T_d4083_row1_col11, #T_d4083_row1_col12, #T_d4083_row1_col13, #T_d4083_row1_col14, #T_d4083_row1_col15, #T_d4083_row2_col0, #T_d4083_row2_col1, #T_d4083_row2_col2, #T_d4083_row2_col3, #T_d4083_row2_col4, #T_d4083_row2_col5, #T_d4083_row2_col6, #T_d4083_row2_col7, #T_d4083_row2_col8, #T_d4083_row2_col9, #T_d4083_row2_col10, #T_d4083_row2_col11, #T_d4083_row2_col12, #T_d4083_row2_col13, #T_d4083_row2_col14, #T_d4083_row2_col15, #T_d4083_row3_col0, #T_d4083_row3_col1, #T_d4083_row3_col2, #T_d4083_row3_col3, #T_d4083_row3_col4, #T_d4083_row3_col5, #T_d4083_row3_col6, #T_d4083_row3_col7, #T_d4083_row3_col8, #T_d4083_row3_col9, #T_d4083_row3_col10, #T_d4083_row3_col11, #T_d4083_row3_col12, #T_d4083_row3_col13, #T_d4083_row3_col14, #T_d4083_row3_col15, #T_d4083_row4_col0, #T_d4083_row4_col1, #T_d4083_row4_col2, #T_d4083_row4_col3, #T_d4083_row4_col4, #T_d4083_row4_col5, #T_d4083_row4_col6, #T_d4083_row4_col7, #T_d4083_row4_col8, #T_d4083_row4_col9, #T_d4083_row4_col10, #T_d4083_row4_col11, #T_d4083_row4_col12, #T_d4083_row4_col13, #T_d4083_row4_col14, #T_d4083_row4_col15 {\n",
              "  background-color: teal;\n",
              "  border-color: black;\n",
              "  border-style: solid;\n",
              "}\n",
              "</style>\n",
              "<table id=\"T_d4083\" class=\"dataframe\">\n",
              "  <thead>\n",
              "    <tr>\n",
              "      <th class=\"blank level0\" >&nbsp;</th>\n",
              "      <th id=\"T_d4083_level0_col0\" class=\"col_heading level0 col0\" >timestamp</th>\n",
              "      <th id=\"T_d4083_level0_col1\" class=\"col_heading level0 col1\" >active_power_calculated_by_converter</th>\n",
              "      <th id=\"T_d4083_level0_col2\" class=\"col_heading level0 col2\" >active_power_raw</th>\n",
              "      <th id=\"T_d4083_level0_col3\" class=\"col_heading level0 col3\" >ambient_temperature</th>\n",
              "      <th id=\"T_d4083_level0_col4\" class=\"col_heading level0 col4\" >generator_speed</th>\n",
              "      <th id=\"T_d4083_level0_col5\" class=\"col_heading level0 col5\" >generator_winding_temp_max</th>\n",
              "      <th id=\"T_d4083_level0_col6\" class=\"col_heading level0 col6\" >grid_power10min_average</th>\n",
              "      <th id=\"T_d4083_level0_col7\" class=\"col_heading level0 col7\" >nc1_inside_temp</th>\n",
              "      <th id=\"T_d4083_level0_col8\" class=\"col_heading level0 col8\" >nacelle_temp</th>\n",
              "      <th id=\"T_d4083_level0_col9\" class=\"col_heading level0 col9\" >reactice_power_calculated_by_converter</th>\n",
              "      <th id=\"T_d4083_level0_col10\" class=\"col_heading level0 col10\" >reactive_power</th>\n",
              "      <th id=\"T_d4083_level0_col11\" class=\"col_heading level0 col11\" >wind_direction_raw</th>\n",
              "      <th id=\"T_d4083_level0_col12\" class=\"col_heading level0 col12\" >wind_speed_raw</th>\n",
              "      <th id=\"T_d4083_level0_col13\" class=\"col_heading level0 col13\" >wind_speed_turbulence</th>\n",
              "      <th id=\"T_d4083_level0_col14\" class=\"col_heading level0 col14\" >turbine_id</th>\n",
              "      <th id=\"T_d4083_level0_col15\" class=\"col_heading level0 col15\" >Target</th>\n",
              "    </tr>\n",
              "  </thead>\n",
              "  <tbody>\n",
              "    <tr>\n",
              "      <th id=\"T_d4083_level0_row0\" class=\"row_heading level0 row0\" >0</th>\n",
              "      <td id=\"T_d4083_row0_col0\" class=\"data row0 col0\" >2021-02-19 20:18:00</td>\n",
              "      <td id=\"T_d4083_row0_col1\" class=\"data row0 col1\" >816.636759</td>\n",
              "      <td id=\"T_d4083_row0_col2\" class=\"data row0 col2\" >834.917206</td>\n",
              "      <td id=\"T_d4083_row0_col3\" class=\"data row0 col3\" >31.694380</td>\n",
              "      <td id=\"T_d4083_row0_col4\" class=\"data row0 col4\" >1159.616602</td>\n",
              "      <td id=\"T_d4083_row0_col5\" class=\"data row0 col5\" >65.954214</td>\n",
              "      <td id=\"T_d4083_row0_col6\" class=\"data row0 col6\" >917.897085</td>\n",
              "      <td id=\"T_d4083_row0_col7\" class=\"data row0 col7\" >31.881972</td>\n",
              "      <td id=\"T_d4083_row0_col8\" class=\"data row0 col8\" >31.504713</td>\n",
              "      <td id=\"T_d4083_row0_col9\" class=\"data row0 col9\" >141.457644</td>\n",
              "      <td id=\"T_d4083_row0_col10\" class=\"data row0 col10\" >165.501518</td>\n",
              "      <td id=\"T_d4083_row0_col11\" class=\"data row0 col11\" >280.864782</td>\n",
              "      <td id=\"T_d4083_row0_col12\" class=\"data row0 col12\" >7.057000</td>\n",
              "      <td id=\"T_d4083_row0_col13\" class=\"data row0 col13\" >0.544082</td>\n",
              "      <td id=\"T_d4083_row0_col14\" class=\"data row0 col14\" >Turbine_108</td>\n",
              "      <td id=\"T_d4083_row0_col15\" class=\"data row0 col15\" >47.582787</td>\n",
              "    </tr>\n",
              "    <tr>\n",
              "      <th id=\"T_d4083_level0_row1\" class=\"row_heading level0 row1\" >1</th>\n",
              "      <td id=\"T_d4083_row1_col0\" class=\"data row1 col0\" >2021-04-27 04:55:00</td>\n",
              "      <td id=\"T_d4083_row1_col1\" class=\"data row1 col1\" >419.107829</td>\n",
              "      <td id=\"T_d4083_row1_col2\" class=\"data row1 col2\" >421.050873</td>\n",
              "      <td id=\"T_d4083_row1_col3\" class=\"data row1 col3\" >12.894948</td>\n",
              "      <td id=\"T_d4083_row1_col4\" class=\"data row1 col4\" >928.747996</td>\n",
              "      <td id=\"T_d4083_row1_col5\" class=\"data row1 col5\" >59.571319</td>\n",
              "      <td id=\"T_d4083_row1_col6\" class=\"data row1 col6\" >445.554250</td>\n",
              "      <td id=\"T_d4083_row1_col7\" class=\"data row1 col7\" >32.423705</td>\n",
              "      <td id=\"T_d4083_row1_col8\" class=\"data row1 col8\" >32.755770</td>\n",
              "      <td id=\"T_d4083_row1_col9\" class=\"data row1 col9\" >89.186457</td>\n",
              "      <td id=\"T_d4083_row1_col10\" class=\"data row1 col10\" >113.835236</td>\n",
              "      <td id=\"T_d4083_row1_col11\" class=\"data row1 col11\" >299.552460</td>\n",
              "      <td id=\"T_d4083_row1_col12\" class=\"data row1 col12\" >5.474937</td>\n",
              "      <td id=\"T_d4083_row1_col13\" class=\"data row1 col13\" >0.469031</td>\n",
              "      <td id=\"T_d4083_row1_col14\" class=\"data row1 col14\" >Turbine_18</td>\n",
              "      <td id=\"T_d4083_row1_col15\" class=\"data row1 col15\" >46.070328</td>\n",
              "    </tr>\n",
              "    <tr>\n",
              "      <th id=\"T_d4083_level0_row2\" class=\"row_heading level0 row2\" >2</th>\n",
              "      <td id=\"T_d4083_row2_col0\" class=\"data row2 col0\" >2021-01-25 06:26:00</td>\n",
              "      <td id=\"T_d4083_row2_col1\" class=\"data row2 col1\" >1303.530558</td>\n",
              "      <td id=\"T_d4083_row2_col2\" class=\"data row2 col2\" >1337.566142</td>\n",
              "      <td id=\"T_d4083_row2_col3\" class=\"data row2 col3\" >16.648388</td>\n",
              "      <td id=\"T_d4083_row2_col4\" class=\"data row2 col4\" >1201.219775</td>\n",
              "      <td id=\"T_d4083_row2_col5\" class=\"data row2 col5\" >61.270498</td>\n",
              "      <td id=\"T_d4083_row2_col6\" class=\"data row2 col6\" >1364.716003</td>\n",
              "      <td id=\"T_d4083_row2_col7\" class=\"data row2 col7\" >11.446849</td>\n",
              "      <td id=\"T_d4083_row2_col8\" class=\"data row2 col8\" >18.332985</td>\n",
              "      <td id=\"T_d4083_row2_col9\" class=\"data row2 col9\" >230.622309</td>\n",
              "      <td id=\"T_d4083_row2_col10\" class=\"data row2 col10\" >281.452253</td>\n",
              "      <td id=\"T_d4083_row2_col11\" class=\"data row2 col11\" >84.960106</td>\n",
              "      <td id=\"T_d4083_row2_col12\" class=\"data row2 col12\" >8.092457</td>\n",
              "      <td id=\"T_d4083_row2_col13\" class=\"data row2 col13\" >0.622318</td>\n",
              "      <td id=\"T_d4083_row2_col14\" class=\"data row2 col14\" >Turbine_105</td>\n",
              "      <td id=\"T_d4083_row2_col15\" class=\"data row2 col15\" >39.989236</td>\n",
              "    </tr>\n",
              "    <tr>\n",
              "      <th id=\"T_d4083_level0_row3\" class=\"row_heading level0 row3\" >3</th>\n",
              "      <td id=\"T_d4083_row3_col0\" class=\"data row3 col0\" >2021-10-30 03:47:00</td>\n",
              "      <td id=\"T_d4083_row3_col1\" class=\"data row3 col1\" >61.494872</td>\n",
              "      <td id=\"T_d4083_row3_col2\" class=\"data row3 col2\" >53.481008</td>\n",
              "      <td id=\"T_d4083_row3_col3\" class=\"data row3 col3\" >28.388141</td>\n",
              "      <td id=\"T_d4083_row3_col4\" class=\"data row3 col4\" >769.806122</td>\n",
              "      <td id=\"T_d4083_row3_col5\" class=\"data row3 col5\" >40.674348</td>\n",
              "      <td id=\"T_d4083_row3_col6\" class=\"data row3 col6\" >14.324897</td>\n",
              "      <td id=\"T_d4083_row3_col7\" class=\"data row3 col7\" >34.253204</td>\n",
              "      <td id=\"T_d4083_row3_col8\" class=\"data row3 col8\" >32.662889</td>\n",
              "      <td id=\"T_d4083_row3_col9\" class=\"data row3 col9\" >66.211015</td>\n",
              "      <td id=\"T_d4083_row3_col10\" class=\"data row3 col10\" >75.017531</td>\n",
              "      <td id=\"T_d4083_row3_col11\" class=\"data row3 col11\" >87.261119</td>\n",
              "      <td id=\"T_d4083_row3_col12\" class=\"data row3 col12\" >4.071032</td>\n",
              "      <td id=\"T_d4083_row3_col13\" class=\"data row3 col13\" >0.760719</td>\n",
              "      <td id=\"T_d4083_row3_col14\" class=\"data row3 col14\" >Turbine_15</td>\n",
              "      <td id=\"T_d4083_row3_col15\" class=\"data row3 col15\" >46.056587</td>\n",
              "    </tr>\n",
              "    <tr>\n",
              "      <th id=\"T_d4083_level0_row4\" class=\"row_heading level0 row4\" >4</th>\n",
              "      <td id=\"T_d4083_row4_col0\" class=\"data row4 col0\" >2021-03-15 00:39:00</td>\n",
              "      <td id=\"T_d4083_row4_col1\" class=\"data row4 col1\" >593.514364</td>\n",
              "      <td id=\"T_d4083_row4_col2\" class=\"data row4 col2\" >611.659108</td>\n",
              "      <td id=\"T_d4083_row4_col3\" class=\"data row4 col3\" >31.519527</td>\n",
              "      <td id=\"T_d4083_row4_col4\" class=\"data row4 col4\" >1046.916768</td>\n",
              "      <td id=\"T_d4083_row4_col5\" class=\"data row4 col5\" >64.341763</td>\n",
              "      <td id=\"T_d4083_row4_col6\" class=\"data row4 col6\" >599.020172</td>\n",
              "      <td id=\"T_d4083_row4_col7\" class=\"data row4 col7\" >32.405586</td>\n",
              "      <td id=\"T_d4083_row4_col8\" class=\"data row4 col8\" >31.466387</td>\n",
              "      <td id=\"T_d4083_row4_col9\" class=\"data row4 col9\" >137.163938</td>\n",
              "      <td id=\"T_d4083_row4_col10\" class=\"data row4 col10\" >160.202421</td>\n",
              "      <td id=\"T_d4083_row4_col11\" class=\"data row4 col11\" >313.724818</td>\n",
              "      <td id=\"T_d4083_row4_col12\" class=\"data row4 col12\" >6.357943</td>\n",
              "      <td id=\"T_d4083_row4_col13\" class=\"data row4 col13\" >0.346068</td>\n",
              "      <td id=\"T_d4083_row4_col14\" class=\"data row4 col14\" >Turbine_01</td>\n",
              "      <td id=\"T_d4083_row4_col15\" class=\"data row4 col15\" >54.346095</td>\n",
              "    </tr>\n",
              "  </tbody>\n",
              "</table>\n"
            ]
          },
          "metadata": {},
          "execution_count": 28
        }
      ]
    },
    {
      "cell_type": "markdown",
      "source": [
        "**Shape Inspection**"
      ],
      "metadata": {
        "id": "bIIrpTkjdz8q"
      }
    },
    {
      "cell_type": "code",
      "source": [
        "a = df.shape\n",
        "print(f\"Rows: {a[0]} & Columns: {a[1]}\")"
      ],
      "metadata": {
        "colab": {
          "base_uri": "https://localhost:8080/"
        },
        "id": "noP2_ZhZbqNS",
        "outputId": "2c76ad1f-7402-4c97-f96d-dd03c9a9e29b"
      },
      "execution_count": null,
      "outputs": [
        {
          "output_type": "stream",
          "name": "stdout",
          "text": [
            "Rows: 909604 & Columns: 16\n"
          ]
        }
      ]
    },
    {
      "cell_type": "markdown",
      "source": [
        "**Brief my data**"
      ],
      "metadata": {
        "id": "P9L4fZo1eZpK"
      }
    },
    {
      "cell_type": "code",
      "source": [
        "df.info()"
      ],
      "metadata": {
        "colab": {
          "base_uri": "https://localhost:8080/"
        },
        "id": "O5zaNrVSeRU5",
        "outputId": "9f5d674d-4c5f-4194-bcb0-0873ac6ae19c"
      },
      "execution_count": null,
      "outputs": [
        {
          "output_type": "stream",
          "name": "stdout",
          "text": [
            "<class 'pandas.core.frame.DataFrame'>\n",
            "RangeIndex: 909604 entries, 0 to 909603\n",
            "Data columns (total 16 columns):\n",
            " #   Column                                  Non-Null Count   Dtype  \n",
            "---  ------                                  --------------   -----  \n",
            " 0   timestamp                               909604 non-null  object \n",
            " 1   active_power_calculated_by_converter    909604 non-null  float64\n",
            " 2   active_power_raw                        909604 non-null  float64\n",
            " 3   ambient_temperature                     909604 non-null  float64\n",
            " 4   generator_speed                         909604 non-null  float64\n",
            " 5   generator_winding_temp_max              909604 non-null  float64\n",
            " 6   grid_power10min_average                 909604 non-null  float64\n",
            " 7   nc1_inside_temp                         909604 non-null  float64\n",
            " 8   nacelle_temp                            909604 non-null  float64\n",
            " 9   reactice_power_calculated_by_converter  909604 non-null  float64\n",
            " 10  reactive_power                          909604 non-null  float64\n",
            " 11  wind_direction_raw                      909604 non-null  float64\n",
            " 12  wind_speed_raw                          909604 non-null  float64\n",
            " 13  wind_speed_turbulence                   909604 non-null  float64\n",
            " 14  turbine_id                              909604 non-null  object \n",
            " 15  Target                                  909604 non-null  float64\n",
            "dtypes: float64(14), object(2)\n",
            "memory usage: 111.0+ MB\n"
          ]
        }
      ]
    },
    {
      "cell_type": "markdown",
      "source": [
        "**Insights**\n",
        "  * **The data has no null values as per the information, but timestamp column is not in proper format**\n",
        "  * **The target column is Target, it's numerical in nature**\n",
        "  * **The turbine_id and timestamp are not so relevant with respect to prediction (if Time series, then we can use timestamp)**"
      ],
      "metadata": {
        "id": "bwb3S2Pte5W3"
      }
    },
    {
      "cell_type": "markdown",
      "source": [
        "<hr>\n",
        "\n",
        "**Statistical Analysis**"
      ],
      "metadata": {
        "id": "R1tCjXuLfync"
      }
    },
    {
      "cell_type": "code",
      "source": [
        "df.describe().T"
      ],
      "metadata": {
        "colab": {
          "base_uri": "https://localhost:8080/",
          "height": 488
        },
        "id": "8KMjO6zgejit",
        "outputId": "8350f685-ed82-47c7-d719-97c09af5ca01"
      },
      "execution_count": null,
      "outputs": [
        {
          "output_type": "execute_result",
          "data": {
            "text/plain": [
              "                                           count        mean         std  \\\n",
              "active_power_calculated_by_converter    909604.0  525.886061  474.619576   \n",
              "active_power_raw                        909604.0  537.639468  482.394907   \n",
              "ambient_temperature                     909604.0   25.573921    8.025649   \n",
              "generator_speed                         909604.0  931.130882  193.674384   \n",
              "generator_winding_temp_max              909604.0   60.730112    9.721582   \n",
              "grid_power10min_average                 909604.0  527.579537  472.656976   \n",
              "nc1_inside_temp                         909604.0   31.755823    3.929794   \n",
              "nacelle_temp                            909604.0   31.686413    3.554426   \n",
              "reactice_power_calculated_by_converter  909604.0  111.080610   78.219944   \n",
              "reactive_power                          909604.0  133.692333   91.232152   \n",
              "wind_direction_raw                      909604.0  199.487161  104.617261   \n",
              "wind_speed_raw                          909604.0    5.894950    1.977684   \n",
              "wind_speed_turbulence                   909604.0    0.651916    0.317513   \n",
              "Target                                  909604.0   46.328595    2.617691   \n",
              "\n",
              "                                               min         25%         50%  \\\n",
              "active_power_calculated_by_converter      0.000000  149.620898  379.989929   \n",
              "active_power_raw                          0.000008  155.813244  383.985926   \n",
              "ambient_temperature                       5.616541   17.093680   27.919035   \n",
              "generator_speed                           0.000000  770.538574  884.068502   \n",
              "generator_winding_temp_max               25.636366   54.916767   60.034490   \n",
              "grid_power10min_average                   0.000000  147.181552  391.303187   \n",
              "nc1_inside_temp                          11.141922   29.913803   31.762946   \n",
              "nacelle_temp                             16.010218   30.267423   31.961610   \n",
              "reactice_power_calculated_by_converter -318.393721   81.540850   92.005826   \n",
              "reactive_power                           -5.461607   96.045765  107.633378   \n",
              "wind_direction_raw                        0.309692   98.916060  232.821159   \n",
              "wind_speed_raw                            0.904500    4.400753    5.637207   \n",
              "wind_speed_turbulence                     0.000000    0.432129    0.583863   \n",
              "Target                                   25.865320   44.816740   46.302899   \n",
              "\n",
              "                                                75%          max  \n",
              "active_power_calculated_by_converter     781.357475  1999.999858  \n",
              "active_power_raw                         800.261108  1999.984456  \n",
              "ambient_temperature                       32.171696    48.089017  \n",
              "generator_speed                         1123.335856  1267.140625  \n",
              "generator_winding_temp_max                65.737187   129.846405  \n",
              "grid_power10min_average                  794.875710  1999.991455  \n",
              "nc1_inside_temp                           33.469745    52.790030  \n",
              "nacelle_temp                              33.546260    48.406106  \n",
              "reactice_power_calculated_by_converter   124.879153   523.892695  \n",
              "reactive_power                           154.153730   592.815938  \n",
              "wind_direction_raw                       287.667503   359.455531  \n",
              "wind_speed_raw                             7.092771    19.795001  \n",
              "wind_speed_turbulence                      0.798240     9.534769  \n",
              "Target                                    47.733105    65.037689  "
            ],
            "text/html": [
              "\n",
              "  <div id=\"df-9fc3095c-9670-425b-b6dc-acbddf09173e\" class=\"colab-df-container\">\n",
              "    <div>\n",
              "<style scoped>\n",
              "    .dataframe tbody tr th:only-of-type {\n",
              "        vertical-align: middle;\n",
              "    }\n",
              "\n",
              "    .dataframe tbody tr th {\n",
              "        vertical-align: top;\n",
              "    }\n",
              "\n",
              "    .dataframe thead th {\n",
              "        text-align: right;\n",
              "    }\n",
              "</style>\n",
              "<table border=\"1\" class=\"dataframe\">\n",
              "  <thead>\n",
              "    <tr style=\"text-align: right;\">\n",
              "      <th></th>\n",
              "      <th>count</th>\n",
              "      <th>mean</th>\n",
              "      <th>std</th>\n",
              "      <th>min</th>\n",
              "      <th>25%</th>\n",
              "      <th>50%</th>\n",
              "      <th>75%</th>\n",
              "      <th>max</th>\n",
              "    </tr>\n",
              "  </thead>\n",
              "  <tbody>\n",
              "    <tr>\n",
              "      <th>active_power_calculated_by_converter</th>\n",
              "      <td>909604.0</td>\n",
              "      <td>525.886061</td>\n",
              "      <td>474.619576</td>\n",
              "      <td>0.000000</td>\n",
              "      <td>149.620898</td>\n",
              "      <td>379.989929</td>\n",
              "      <td>781.357475</td>\n",
              "      <td>1999.999858</td>\n",
              "    </tr>\n",
              "    <tr>\n",
              "      <th>active_power_raw</th>\n",
              "      <td>909604.0</td>\n",
              "      <td>537.639468</td>\n",
              "      <td>482.394907</td>\n",
              "      <td>0.000008</td>\n",
              "      <td>155.813244</td>\n",
              "      <td>383.985926</td>\n",
              "      <td>800.261108</td>\n",
              "      <td>1999.984456</td>\n",
              "    </tr>\n",
              "    <tr>\n",
              "      <th>ambient_temperature</th>\n",
              "      <td>909604.0</td>\n",
              "      <td>25.573921</td>\n",
              "      <td>8.025649</td>\n",
              "      <td>5.616541</td>\n",
              "      <td>17.093680</td>\n",
              "      <td>27.919035</td>\n",
              "      <td>32.171696</td>\n",
              "      <td>48.089017</td>\n",
              "    </tr>\n",
              "    <tr>\n",
              "      <th>generator_speed</th>\n",
              "      <td>909604.0</td>\n",
              "      <td>931.130882</td>\n",
              "      <td>193.674384</td>\n",
              "      <td>0.000000</td>\n",
              "      <td>770.538574</td>\n",
              "      <td>884.068502</td>\n",
              "      <td>1123.335856</td>\n",
              "      <td>1267.140625</td>\n",
              "    </tr>\n",
              "    <tr>\n",
              "      <th>generator_winding_temp_max</th>\n",
              "      <td>909604.0</td>\n",
              "      <td>60.730112</td>\n",
              "      <td>9.721582</td>\n",
              "      <td>25.636366</td>\n",
              "      <td>54.916767</td>\n",
              "      <td>60.034490</td>\n",
              "      <td>65.737187</td>\n",
              "      <td>129.846405</td>\n",
              "    </tr>\n",
              "    <tr>\n",
              "      <th>grid_power10min_average</th>\n",
              "      <td>909604.0</td>\n",
              "      <td>527.579537</td>\n",
              "      <td>472.656976</td>\n",
              "      <td>0.000000</td>\n",
              "      <td>147.181552</td>\n",
              "      <td>391.303187</td>\n",
              "      <td>794.875710</td>\n",
              "      <td>1999.991455</td>\n",
              "    </tr>\n",
              "    <tr>\n",
              "      <th>nc1_inside_temp</th>\n",
              "      <td>909604.0</td>\n",
              "      <td>31.755823</td>\n",
              "      <td>3.929794</td>\n",
              "      <td>11.141922</td>\n",
              "      <td>29.913803</td>\n",
              "      <td>31.762946</td>\n",
              "      <td>33.469745</td>\n",
              "      <td>52.790030</td>\n",
              "    </tr>\n",
              "    <tr>\n",
              "      <th>nacelle_temp</th>\n",
              "      <td>909604.0</td>\n",
              "      <td>31.686413</td>\n",
              "      <td>3.554426</td>\n",
              "      <td>16.010218</td>\n",
              "      <td>30.267423</td>\n",
              "      <td>31.961610</td>\n",
              "      <td>33.546260</td>\n",
              "      <td>48.406106</td>\n",
              "    </tr>\n",
              "    <tr>\n",
              "      <th>reactice_power_calculated_by_converter</th>\n",
              "      <td>909604.0</td>\n",
              "      <td>111.080610</td>\n",
              "      <td>78.219944</td>\n",
              "      <td>-318.393721</td>\n",
              "      <td>81.540850</td>\n",
              "      <td>92.005826</td>\n",
              "      <td>124.879153</td>\n",
              "      <td>523.892695</td>\n",
              "    </tr>\n",
              "    <tr>\n",
              "      <th>reactive_power</th>\n",
              "      <td>909604.0</td>\n",
              "      <td>133.692333</td>\n",
              "      <td>91.232152</td>\n",
              "      <td>-5.461607</td>\n",
              "      <td>96.045765</td>\n",
              "      <td>107.633378</td>\n",
              "      <td>154.153730</td>\n",
              "      <td>592.815938</td>\n",
              "    </tr>\n",
              "    <tr>\n",
              "      <th>wind_direction_raw</th>\n",
              "      <td>909604.0</td>\n",
              "      <td>199.487161</td>\n",
              "      <td>104.617261</td>\n",
              "      <td>0.309692</td>\n",
              "      <td>98.916060</td>\n",
              "      <td>232.821159</td>\n",
              "      <td>287.667503</td>\n",
              "      <td>359.455531</td>\n",
              "    </tr>\n",
              "    <tr>\n",
              "      <th>wind_speed_raw</th>\n",
              "      <td>909604.0</td>\n",
              "      <td>5.894950</td>\n",
              "      <td>1.977684</td>\n",
              "      <td>0.904500</td>\n",
              "      <td>4.400753</td>\n",
              "      <td>5.637207</td>\n",
              "      <td>7.092771</td>\n",
              "      <td>19.795001</td>\n",
              "    </tr>\n",
              "    <tr>\n",
              "      <th>wind_speed_turbulence</th>\n",
              "      <td>909604.0</td>\n",
              "      <td>0.651916</td>\n",
              "      <td>0.317513</td>\n",
              "      <td>0.000000</td>\n",
              "      <td>0.432129</td>\n",
              "      <td>0.583863</td>\n",
              "      <td>0.798240</td>\n",
              "      <td>9.534769</td>\n",
              "    </tr>\n",
              "    <tr>\n",
              "      <th>Target</th>\n",
              "      <td>909604.0</td>\n",
              "      <td>46.328595</td>\n",
              "      <td>2.617691</td>\n",
              "      <td>25.865320</td>\n",
              "      <td>44.816740</td>\n",
              "      <td>46.302899</td>\n",
              "      <td>47.733105</td>\n",
              "      <td>65.037689</td>\n",
              "    </tr>\n",
              "  </tbody>\n",
              "</table>\n",
              "</div>\n",
              "    <div class=\"colab-df-buttons\">\n",
              "\n",
              "  <div class=\"colab-df-container\">\n",
              "    <button class=\"colab-df-convert\" onclick=\"convertToInteractive('df-9fc3095c-9670-425b-b6dc-acbddf09173e')\"\n",
              "            title=\"Convert this dataframe to an interactive table.\"\n",
              "            style=\"display:none;\">\n",
              "\n",
              "  <svg xmlns=\"http://www.w3.org/2000/svg\" height=\"24px\" viewBox=\"0 -960 960 960\">\n",
              "    <path d=\"M120-120v-720h720v720H120Zm60-500h600v-160H180v160Zm220 220h160v-160H400v160Zm0 220h160v-160H400v160ZM180-400h160v-160H180v160Zm440 0h160v-160H620v160ZM180-180h160v-160H180v160Zm440 0h160v-160H620v160Z\"/>\n",
              "  </svg>\n",
              "    </button>\n",
              "\n",
              "  <style>\n",
              "    .colab-df-container {\n",
              "      display:flex;\n",
              "      gap: 12px;\n",
              "    }\n",
              "\n",
              "    .colab-df-convert {\n",
              "      background-color: #E8F0FE;\n",
              "      border: none;\n",
              "      border-radius: 50%;\n",
              "      cursor: pointer;\n",
              "      display: none;\n",
              "      fill: #1967D2;\n",
              "      height: 32px;\n",
              "      padding: 0 0 0 0;\n",
              "      width: 32px;\n",
              "    }\n",
              "\n",
              "    .colab-df-convert:hover {\n",
              "      background-color: #E2EBFA;\n",
              "      box-shadow: 0px 1px 2px rgba(60, 64, 67, 0.3), 0px 1px 3px 1px rgba(60, 64, 67, 0.15);\n",
              "      fill: #174EA6;\n",
              "    }\n",
              "\n",
              "    .colab-df-buttons div {\n",
              "      margin-bottom: 4px;\n",
              "    }\n",
              "\n",
              "    [theme=dark] .colab-df-convert {\n",
              "      background-color: #3B4455;\n",
              "      fill: #D2E3FC;\n",
              "    }\n",
              "\n",
              "    [theme=dark] .colab-df-convert:hover {\n",
              "      background-color: #434B5C;\n",
              "      box-shadow: 0px 1px 3px 1px rgba(0, 0, 0, 0.15);\n",
              "      filter: drop-shadow(0px 1px 2px rgba(0, 0, 0, 0.3));\n",
              "      fill: #FFFFFF;\n",
              "    }\n",
              "  </style>\n",
              "\n",
              "    <script>\n",
              "      const buttonEl =\n",
              "        document.querySelector('#df-9fc3095c-9670-425b-b6dc-acbddf09173e button.colab-df-convert');\n",
              "      buttonEl.style.display =\n",
              "        google.colab.kernel.accessAllowed ? 'block' : 'none';\n",
              "\n",
              "      async function convertToInteractive(key) {\n",
              "        const element = document.querySelector('#df-9fc3095c-9670-425b-b6dc-acbddf09173e');\n",
              "        const dataTable =\n",
              "          await google.colab.kernel.invokeFunction('convertToInteractive',\n",
              "                                                    [key], {});\n",
              "        if (!dataTable) return;\n",
              "\n",
              "        const docLinkHtml = 'Like what you see? Visit the ' +\n",
              "          '<a target=\"_blank\" href=https://colab.research.google.com/notebooks/data_table.ipynb>data table notebook</a>'\n",
              "          + ' to learn more about interactive tables.';\n",
              "        element.innerHTML = '';\n",
              "        dataTable['output_type'] = 'display_data';\n",
              "        await google.colab.output.renderOutput(dataTable, element);\n",
              "        const docLink = document.createElement('div');\n",
              "        docLink.innerHTML = docLinkHtml;\n",
              "        element.appendChild(docLink);\n",
              "      }\n",
              "    </script>\n",
              "  </div>\n",
              "\n",
              "\n",
              "<div id=\"df-a10049a6-d9e0-44a5-ba5d-3671fadf255c\">\n",
              "  <button class=\"colab-df-quickchart\" onclick=\"quickchart('df-a10049a6-d9e0-44a5-ba5d-3671fadf255c')\"\n",
              "            title=\"Suggest charts\"\n",
              "            style=\"display:none;\">\n",
              "\n",
              "<svg xmlns=\"http://www.w3.org/2000/svg\" height=\"24px\"viewBox=\"0 0 24 24\"\n",
              "     width=\"24px\">\n",
              "    <g>\n",
              "        <path d=\"M19 3H5c-1.1 0-2 .9-2 2v14c0 1.1.9 2 2 2h14c1.1 0 2-.9 2-2V5c0-1.1-.9-2-2-2zM9 17H7v-7h2v7zm4 0h-2V7h2v10zm4 0h-2v-4h2v4z\"/>\n",
              "    </g>\n",
              "</svg>\n",
              "  </button>\n",
              "\n",
              "<style>\n",
              "  .colab-df-quickchart {\n",
              "      --bg-color: #E8F0FE;\n",
              "      --fill-color: #1967D2;\n",
              "      --hover-bg-color: #E2EBFA;\n",
              "      --hover-fill-color: #174EA6;\n",
              "      --disabled-fill-color: #AAA;\n",
              "      --disabled-bg-color: #DDD;\n",
              "  }\n",
              "\n",
              "  [theme=dark] .colab-df-quickchart {\n",
              "      --bg-color: #3B4455;\n",
              "      --fill-color: #D2E3FC;\n",
              "      --hover-bg-color: #434B5C;\n",
              "      --hover-fill-color: #FFFFFF;\n",
              "      --disabled-bg-color: #3B4455;\n",
              "      --disabled-fill-color: #666;\n",
              "  }\n",
              "\n",
              "  .colab-df-quickchart {\n",
              "    background-color: var(--bg-color);\n",
              "    border: none;\n",
              "    border-radius: 50%;\n",
              "    cursor: pointer;\n",
              "    display: none;\n",
              "    fill: var(--fill-color);\n",
              "    height: 32px;\n",
              "    padding: 0;\n",
              "    width: 32px;\n",
              "  }\n",
              "\n",
              "  .colab-df-quickchart:hover {\n",
              "    background-color: var(--hover-bg-color);\n",
              "    box-shadow: 0 1px 2px rgba(60, 64, 67, 0.3), 0 1px 3px 1px rgba(60, 64, 67, 0.15);\n",
              "    fill: var(--button-hover-fill-color);\n",
              "  }\n",
              "\n",
              "  .colab-df-quickchart-complete:disabled,\n",
              "  .colab-df-quickchart-complete:disabled:hover {\n",
              "    background-color: var(--disabled-bg-color);\n",
              "    fill: var(--disabled-fill-color);\n",
              "    box-shadow: none;\n",
              "  }\n",
              "\n",
              "  .colab-df-spinner {\n",
              "    border: 2px solid var(--fill-color);\n",
              "    border-color: transparent;\n",
              "    border-bottom-color: var(--fill-color);\n",
              "    animation:\n",
              "      spin 1s steps(1) infinite;\n",
              "  }\n",
              "\n",
              "  @keyframes spin {\n",
              "    0% {\n",
              "      border-color: transparent;\n",
              "      border-bottom-color: var(--fill-color);\n",
              "      border-left-color: var(--fill-color);\n",
              "    }\n",
              "    20% {\n",
              "      border-color: transparent;\n",
              "      border-left-color: var(--fill-color);\n",
              "      border-top-color: var(--fill-color);\n",
              "    }\n",
              "    30% {\n",
              "      border-color: transparent;\n",
              "      border-left-color: var(--fill-color);\n",
              "      border-top-color: var(--fill-color);\n",
              "      border-right-color: var(--fill-color);\n",
              "    }\n",
              "    40% {\n",
              "      border-color: transparent;\n",
              "      border-right-color: var(--fill-color);\n",
              "      border-top-color: var(--fill-color);\n",
              "    }\n",
              "    60% {\n",
              "      border-color: transparent;\n",
              "      border-right-color: var(--fill-color);\n",
              "    }\n",
              "    80% {\n",
              "      border-color: transparent;\n",
              "      border-right-color: var(--fill-color);\n",
              "      border-bottom-color: var(--fill-color);\n",
              "    }\n",
              "    90% {\n",
              "      border-color: transparent;\n",
              "      border-bottom-color: var(--fill-color);\n",
              "    }\n",
              "  }\n",
              "</style>\n",
              "\n",
              "  <script>\n",
              "    async function quickchart(key) {\n",
              "      const quickchartButtonEl =\n",
              "        document.querySelector('#' + key + ' button');\n",
              "      quickchartButtonEl.disabled = true;  // To prevent multiple clicks.\n",
              "      quickchartButtonEl.classList.add('colab-df-spinner');\n",
              "      try {\n",
              "        const charts = await google.colab.kernel.invokeFunction(\n",
              "            'suggestCharts', [key], {});\n",
              "      } catch (error) {\n",
              "        console.error('Error during call to suggestCharts:', error);\n",
              "      }\n",
              "      quickchartButtonEl.classList.remove('colab-df-spinner');\n",
              "      quickchartButtonEl.classList.add('colab-df-quickchart-complete');\n",
              "    }\n",
              "    (() => {\n",
              "      let quickchartButtonEl =\n",
              "        document.querySelector('#df-a10049a6-d9e0-44a5-ba5d-3671fadf255c button');\n",
              "      quickchartButtonEl.style.display =\n",
              "        google.colab.kernel.accessAllowed ? 'block' : 'none';\n",
              "    })();\n",
              "  </script>\n",
              "</div>\n",
              "\n",
              "    </div>\n",
              "  </div>\n"
            ],
            "application/vnd.google.colaboratory.intrinsic+json": {
              "type": "dataframe",
              "summary": "{\n  \"name\": \"df\",\n  \"rows\": 14,\n  \"fields\": [\n    {\n      \"column\": \"count\",\n      \"properties\": {\n        \"dtype\": \"number\",\n        \"std\": 0.0,\n        \"min\": 909604.0,\n        \"max\": 909604.0,\n        \"num_unique_values\": 1,\n        \"samples\": [\n          909604.0\n        ],\n        \"semantic_type\": \"\",\n        \"description\": \"\"\n      }\n    },\n    {\n      \"column\": \"mean\",\n      \"properties\": {\n        \"dtype\": \"number\",\n        \"std\": 287.17750367819383,\n        \"min\": 0.651915660766433,\n        \"max\": 931.1308817107416,\n        \"num_unique_values\": 14,\n        \"samples\": [\n          133.69233335561802\n        ],\n        \"semantic_type\": \"\",\n        \"description\": \"\"\n      }\n    },\n    {\n      \"column\": \"std\",\n      \"properties\": {\n        \"dtype\": \"number\",\n        \"std\": 191.96863312542771,\n        \"min\": 0.31751323741510273,\n        \"max\": 482.39490740266416,\n        \"num_unique_values\": 14,\n        \"samples\": [\n          91.23215182850393\n        ],\n        \"semantic_type\": \"\",\n        \"description\": \"\"\n      }\n    },\n    {\n      \"column\": \"min\",\n      \"properties\": {\n        \"dtype\": \"number\",\n        \"std\": 87.30360043623939,\n        \"min\": -318.3937214740685,\n        \"max\": 25.8653202056885,\n        \"num_unique_values\": 11,\n        \"samples\": [\n          16.010217666626\n        ],\n        \"semantic_type\": \"\",\n        \"description\": \"\"\n      }\n    },\n    {\n      \"column\": \"25%\",\n      \"properties\": {\n        \"dtype\": \"number\",\n        \"std\": 194.71907252512685,\n        \"min\": 0.43212900807460175,\n        \"max\": 770.53857421875,\n        \"num_unique_values\": 14,\n        \"samples\": [\n          96.04576460520425\n        ],\n        \"semantic_type\": \"\",\n        \"description\": \"\"\n      }\n    },\n    {\n      \"column\": \"50%\",\n      \"properties\": {\n        \"dtype\": \"number\",\n        \"std\": 247.74002714297777,\n        \"min\": 0.5838627725839616,\n        \"max\": 884.068501790365,\n        \"num_unique_values\": 14,\n        \"samples\": [\n          107.6333777109785\n        ],\n        \"semantic_type\": \"\",\n        \"description\": \"\"\n      }\n    },\n    {\n      \"column\": \"75%\",\n      \"properties\": {\n        \"dtype\": \"number\",\n        \"std\": 388.67634966489845,\n        \"min\": 0.798239775002003,\n        \"max\": 1123.3358561197902,\n        \"num_unique_values\": 14,\n        \"samples\": [\n          154.15373039245623\n        ],\n        \"semantic_type\": \"\",\n        \"description\": \"\"\n      }\n    },\n    {\n      \"column\": \"max\",\n      \"properties\": {\n        \"dtype\": \"number\",\n        \"std\": 806.3608987748371,\n        \"min\": 9.53476905822754,\n        \"max\": 1999.99985758464,\n        \"num_unique_values\": 14,\n        \"samples\": [\n          592.815938313802\n        ],\n        \"semantic_type\": \"\",\n        \"description\": \"\"\n      }\n    }\n  ]\n}"
            }
          },
          "metadata": {},
          "execution_count": 12
        }
      ]
    },
    {
      "cell_type": "code",
      "source": [
        "sns.distplot(df[\"Target\"])"
      ],
      "metadata": {
        "colab": {
          "base_uri": "https://localhost:8080/",
          "height": 466
        },
        "id": "zxnE4rsWgVIM",
        "outputId": "fb3b406d-20e5-46c7-8283-16bf6775a7ce"
      },
      "execution_count": null,
      "outputs": [
        {
          "output_type": "execute_result",
          "data": {
            "text/plain": [
              "<Axes: xlabel='Target', ylabel='Density'>"
            ]
          },
          "metadata": {},
          "execution_count": 13
        },
        {
          "output_type": "display_data",
          "data": {
            "text/plain": [
              "<Figure size 640x480 with 1 Axes>"
            ],
            "image/png": "[encoded data removed]"
          },
          "metadata": {}
        }
      ]
    },
    {
      "cell_type": "markdown",
      "source": [
        "<hr>\n",
        "\n",
        "# **Step 3 - Data Preprocessing or Wrangling**"
      ],
      "metadata": {
        "id": "bXUssQYXiIgi"
      }
    },
    {
      "cell_type": "markdown",
      "source": [
        "**Null Check**"
      ],
      "metadata": {
        "id": "440fxqUiiTuL"
      }
    },
    {
      "cell_type": "code",
      "source": [
        "df.isnull().sum()"
      ],
      "metadata": {
        "colab": {
          "base_uri": "https://localhost:8080/"
        },
        "id": "MCZviJ8Nh84S",
        "outputId": "c9b5e473-b47c-408e-df2e-7629efe1e40c"
      },
      "execution_count": null,
      "outputs": [
        {
          "output_type": "execute_result",
          "data": {
            "text/plain": [
              "timestamp                                 0\n",
              "active_power_calculated_by_converter      0\n",
              "active_power_raw                          0\n",
              "ambient_temperature                       0\n",
              "generator_speed                           0\n",
              "generator_winding_temp_max                0\n",
              "grid_power10min_average                   0\n",
              "nc1_inside_temp                           0\n",
              "nacelle_temp                              0\n",
              "reactice_power_calculated_by_converter    0\n",
              "reactive_power                            0\n",
              "wind_direction_raw                        0\n",
              "wind_speed_raw                            0\n",
              "wind_speed_turbulence                     0\n",
              "turbine_id                                0\n",
              "Target                                    0\n",
              "dtype: int64"
            ]
          },
          "metadata": {},
          "execution_count": 14
        }
      ]
    },
    {
      "cell_type": "markdown",
      "source": [
        "**Duplicates**"
      ],
      "metadata": {
        "id": "UVsA0WSXiZrs"
      }
    },
    {
      "cell_type": "code",
      "source": [
        "df.duplicated().sum()"
      ],
      "metadata": {
        "colab": {
          "base_uri": "https://localhost:8080/"
        },
        "id": "wtD1oTsEiWyo",
        "outputId": "6fb4cfb8-d997-4809-988a-b2332bd34c90"
      },
      "execution_count": null,
      "outputs": [
        {
          "output_type": "execute_result",
          "data": {
            "text/plain": [
              "0"
            ]
          },
          "metadata": {},
          "execution_count": 16
        }
      ]
    },
    {
      "cell_type": "markdown",
      "source": [
        "**Outliers Detection**"
      ],
      "metadata": {
        "id": "hR-GBOQ-jClz"
      }
    },
    {
      "cell_type": "code",
      "source": [
        "for x in df.columns:\n",
        "  if df[x].dtype != \"object\":\n",
        "    plt.boxplot(df[x])\n",
        "    plt.xlabel(x)\n",
        "    plt.show()"
      ],
      "metadata": {
        "colab": {
          "base_uri": "https://localhost:8080/",
          "height": 1000
        },
        "id": "BypsyYHkiw8B",
        "outputId": "261d084e-08a5-4dda-ca20-45a6ab39691a"
      },
      "execution_count": null,
      "outputs": [
        {
          "output_type": "display_data",
          "data": {
            "text/plain": [
              "<Figure size 640x480 with 1 Axes>"
            ],
            "image/png": "[encoded data removed]"
          },
          "metadata": {}
        },
        {
          "output_type": "display_data",
          "data": {
            "text/plain": [
              "<Figure size 640x480 with 1 Axes>"
            ],
            "image/png": "[encoded data removed]"
          },
          "metadata": {}
        },
        {
          "output_type": "display_data",
          "data": {
            "text/plain": [
              "<Figure size 640x480 with 1 Axes>"
            ],
            "image/png": "[encoded data removed]"
          },
          "metadata": {}
        },
        {
          "output_type": "display_data",
          "data": {
            "text/plain": [
              "<Figure size 640x480 with 1 Axes>"
            ],
            "image/png": "[encoded data removed]"
          },
          "metadata": {}
        },
        {
          "output_type": "display_data",
          "data": {
            "text/plain": [
              "<Figure size 640x480 with 1 Axes>"
            ],
            "image/png": "[encoded data removed]"
          },
          "metadata": {}
        },
        {
          "output_type": "display_data",
          "data": {
            "text/plain": [
              "<Figure size 640x480 with 1 Axes>"
            ],
            "image/png": "[encoded data removed]"
          },
          "metadata": {}
        },
        {
          "output_type": "display_data",
          "data": {
            "text/plain": [
              "<Figure size 640x480 with 1 Axes>"
            ],
            "image/png": "[encoded data removed]"
          },
          "metadata": {}
        },
        {
          "output_type": "display_data",
          "data": {
            "text/plain": [
              "<Figure size 640x480 with 1 Axes>"
            ],
            "image/png": "[encoded data removed]"
          },
          "metadata": {}
        },
        {
          "output_type": "display_data",
          "data": {
            "text/plain": [
              "<Figure size 640x480 with 1 Axes>"
            ],
            "image/png": "[encoded data removed]"
          },
          "metadata": {}
        },
        {
          "output_type": "display_data",
          "data": {
            "text/plain": [
              "<Figure size 640x480 with 1 Axes>"
            ],
            "image/png": "[encoded data removed]"
          },
          "metadata": {}
        },
        {
          "output_type": "display_data",
          "data": {
            "text/plain": [
              "<Figure size 640x480 with 1 Axes>"
            ],
            "image/png": "[encoded data removed]"
          },
          "metadata": {}
        },
        {
          "output_type": "display_data",
          "data": {
            "text/plain": [
              "<Figure size 640x480 with 1 Axes>"
            ],
            "image/png": "[encoded data removed]"
          },
          "metadata": {}
        },
        {
          "output_type": "display_data",
          "data": {
            "text/plain": [
              "<Figure size 640x480 with 1 Axes>"
            ],
            "image/png": "[encoded data removed]"
          },
          "metadata": {}
        },
        {
          "output_type": "display_data",
          "data": {
            "text/plain": [
              "<Figure size 640x480 with 1 Axes>"
            ],
            "image/png": "[encoded data removed]"
          },
          "metadata": {}
        }
      ]
    },
    {
      "cell_type": "code",
      "source": [
        "df_copy = df.copy()"
      ],
      "metadata": {
        "id": "-6bCBVkCmNr0"
      },
      "execution_count": 22,
      "outputs": []
    },
    {
      "cell_type": "markdown",
      "source": [
        "**Elimination of Outliers**"
      ],
      "metadata": {
        "id": "1zGhsPHAlPsF"
      }
    },
    {
      "cell_type": "code",
      "source": [
        "df_copy.shape"
      ],
      "metadata": {
        "colab": {
          "base_uri": "https://localhost:8080/"
        },
        "id": "pJK7f8BnmXPr",
        "outputId": "895e145b-092d-434a-b66c-d0173fc049df"
      },
      "execution_count": 23,
      "outputs": [
        {
          "output_type": "execute_result",
          "data": {
            "text/plain": [
              "(909604, 16)"
            ]
          },
          "metadata": {},
          "execution_count": 23
        }
      ]
    },
    {
      "cell_type": "code",
      "source": [
        "for x in df_copy.columns:\n",
        "  if df_copy[x].dtype != \"object\":\n",
        "    # Calculate the Q1, and Q3\n",
        "    Q1 = df_copy[x].quantile(0.25)\n",
        "    Q3 = df_copy[x].quantile(0.75)\n",
        "\n",
        "    # Defining IQR\n",
        "    IQR = Q3 - Q1\n",
        "\n",
        "    # Define the Upper and Lower Fence\n",
        "    LF = Q1 - 1.5 * IQR\n",
        "    UF = Q3 + 1.5 * IQR\n",
        "\n",
        "    # Formulation\n",
        "    df_copy = df_copy[(df_copy[x] >= LF) & (df_copy[x]<= UF)]"
      ],
      "metadata": {
        "id": "8hPHrL5OkHpe"
      },
      "execution_count": 24,
      "outputs": []
    },
    {
      "cell_type": "code",
      "source": [
        "df_copy.shape"
      ],
      "metadata": {
        "colab": {
          "base_uri": "https://localhost:8080/"
        },
        "id": "EdF_0zbWmaH4",
        "outputId": "c5f50cf4-5db4-46ad-81cd-ff09898c17c9"
      },
      "execution_count": 25,
      "outputs": [
        {
          "output_type": "execute_result",
          "data": {
            "text/plain": [
              "(497528, 16)"
            ]
          },
          "metadata": {},
          "execution_count": 25
        }
      ]
    },
    {
      "cell_type": "markdown",
      "source": [
        "<hr>\n",
        "\n",
        "# **Step 4 - EDA**"
      ],
      "metadata": {
        "id": "nr3_eTYaoxQM"
      }
    },
    {
      "cell_type": "markdown",
      "source": [
        "* **How the power is acting with respect to time**"
      ],
      "metadata": {
        "id": "E9DhSt__pN_p"
      }
    },
    {
      "cell_type": "markdown",
      "source": [
        "**Convert this timestamp into time object**"
      ],
      "metadata": {
        "id": "Hw5eOo12pYYB"
      }
    },
    {
      "cell_type": "code",
      "source": [
        "df_copy[\"timestamp\"] = pd.to_datetime(df_copy[\"timestamp\"])"
      ],
      "metadata": {
        "id": "OOZAmZhvoz8g"
      },
      "execution_count": 32,
      "outputs": []
    },
    {
      "cell_type": "code",
      "source": [
        "df_copy.index = df_copy.set_index(df_copy[\"timestamp\"])"
      ],
      "metadata": {
        "id": "PiHB312QputX"
      },
      "execution_count": 33,
      "outputs": []
    },
    {
      "cell_type": "markdown",
      "source": [
        "**Visualize**"
      ],
      "metadata": {
        "id": "idZBuN4XprSY"
      }
    },
    {
      "cell_type": "markdown",
      "source": [
        "<hr>\n",
        "\n",
        "# **Step 5 - Feature Scaling**"
      ],
      "metadata": {
        "id": "Py5-fRr8nLTH"
      }
    },
    {
      "cell_type": "markdown",
      "source": [
        "**Initialize**"
      ],
      "metadata": {
        "id": "i95rYdy5vj3z"
      }
    },
    {
      "cell_type": "code",
      "source": [
        "# initialize the object for scaler\n",
        "scaler = StandardScaler()"
      ],
      "metadata": {
        "id": "9mOV8i2XmmgP"
      },
      "execution_count": 41,
      "outputs": []
    },
    {
      "cell_type": "markdown",
      "source": [
        "**Before standardizing we need to bifurcate the feature and the target columns**"
      ],
      "metadata": {
        "id": "KwEaisG2w0j5"
      }
    },
    {
      "cell_type": "code",
      "source": [
        "# Feature Columns\n",
        "X = df.drop([\"turbine_id\", \"timestamp\", \"Target\"], axis = 1)\n",
        "\n",
        "# Target Columns\n",
        "Y = df[\"Target\"]"
      ],
      "metadata": {
        "id": "Db0_RgwFv4xV"
      },
      "execution_count": 42,
      "outputs": []
    },
    {
      "cell_type": "markdown",
      "source": [
        "**Scaling the values**"
      ],
      "metadata": {
        "id": "e505hIjnyTn_"
      }
    },
    {
      "cell_type": "code",
      "source": [
        "X = scaler.fit_transform(X)"
      ],
      "metadata": {
        "id": "w-ZmdbwFyShg"
      },
      "execution_count": 43,
      "outputs": []
    },
    {
      "cell_type": "markdown",
      "source": [
        "<hr>\n",
        "\n",
        "# **Step 6 - Reduce the data-complexity**"
      ],
      "metadata": {
        "id": "VRDk-d6PylSq"
      }
    },
    {
      "cell_type": "code",
      "source": [
        "# initialize the object of PCA\n",
        "pca = PCA(n_components = 0.95)"
      ],
      "metadata": {
        "id": "Bgv1OcH7ypHN"
      },
      "execution_count": 46,
      "outputs": []
    },
    {
      "cell_type": "code",
      "source": [
        "pca_data = pca.fit_transform(X)"
      ],
      "metadata": {
        "id": "8Iz76T2-z46S"
      },
      "execution_count": 47,
      "outputs": []
    },
    {
      "cell_type": "code",
      "source": [
        "pca_data.shape"
      ],
      "metadata": {
        "colab": {
          "base_uri": "https://localhost:8080/"
        },
        "id": "y-wjpRT90DGf",
        "outputId": "233d5f26-34ae-4052-8cc7-08573514a265"
      },
      "execution_count": 48,
      "outputs": [
        {
          "output_type": "execute_result",
          "data": {
            "text/plain": [
              "(909604, 7)"
            ]
          },
          "metadata": {},
          "execution_count": 48
        }
      ]
    },
    {
      "cell_type": "code",
      "source": [
        "pd.DataFrame(pca_data)"
      ],
      "metadata": {
        "colab": {
          "base_uri": "https://localhost:8080/",
          "height": 423
        },
        "id": "LhAOsqCd0IRw",
        "outputId": "2f20dfb5-020a-44dd-9ca2-169b392a3cee"
      },
      "execution_count": 50,
      "outputs": [
        {
          "output_type": "execute_result",
          "data": {
            "text/plain": [
              "               0         1         2         3         4         5         6\n",
              "0       1.677274  0.330386  0.274303 -0.790720 -1.000739  0.359201 -0.413761\n",
              "1      -0.593959 -0.306606  1.410909  1.159831 -0.405633 -0.179048 -0.397918\n",
              "2       4.031848 -6.190135 -0.591438 -1.832399  0.409844 -0.790188  0.103882\n",
              "3      -2.715778  0.302205 -0.968835  0.423444  0.809260  0.981932  1.060612\n",
              "4       0.562806  0.357439  0.545970 -0.723757 -1.457427  0.003791 -0.020135\n",
              "...          ...       ...       ...       ...       ...       ...       ...\n",
              "909599  3.156614  1.577054 -0.389591 -0.665949  0.470244 -0.664960 -1.240516\n",
              "909600 -1.963339 -0.413626 -1.040631 -0.465985  0.402914 -0.335999  0.480738\n",
              "909601  1.802108  0.453670  0.051951 -0.899072  0.473143  1.410836 -1.605279\n",
              "909602 -2.186589  0.022413 -1.551523 -0.190128 -0.663333 -0.512325  0.354293\n",
              "909603 -3.023833  0.862548 -0.959773  1.039917  2.281443 -1.043169 -1.054948\n",
              "\n",
              "[909604 rows x 7 columns]"
            ],
            "text/html": [
              "\n",
              "  <div id=\"df-b3bd543a-56af-4df4-aaea-7cec60015f61\" class=\"colab-df-container\">\n",
              "    <div>\n",
              "<style scoped>\n",
              "    .dataframe tbody tr th:only-of-type {\n",
              "        vertical-align: middle;\n",
              "    }\n",
              "\n",
              "    .dataframe tbody tr th {\n",
              "        vertical-align: top;\n",
              "    }\n",
              "\n",
              "    .dataframe thead th {\n",
              "        text-align: right;\n",
              "    }\n",
              "</style>\n",
              "<table border=\"1\" class=\"dataframe\">\n",
              "  <thead>\n",
              "    <tr style=\"text-align: right;\">\n",
              "      <th></th>\n",
              "      <th>0</th>\n",
              "      <th>1</th>\n",
              "      <th>2</th>\n",
              "      <th>3</th>\n",
              "      <th>4</th>\n",
              "      <th>5</th>\n",
              "      <th>6</th>\n",
              "    </tr>\n",
              "  </thead>\n",
              "  <tbody>\n",
              "    <tr>\n",
              "      <th>0</th>\n",
              "      <td>1.677274</td>\n",
              "      <td>0.330386</td>\n",
              "      <td>0.274303</td>\n",
              "      <td>-0.790720</td>\n",
              "      <td>-1.000739</td>\n",
              "      <td>0.359201</td>\n",
              "      <td>-0.413761</td>\n",
              "    </tr>\n",
              "    <tr>\n",
              "      <th>1</th>\n",
              "      <td>-0.593959</td>\n",
              "      <td>-0.306606</td>\n",
              "      <td>1.410909</td>\n",
              "      <td>1.159831</td>\n",
              "      <td>-0.405633</td>\n",
              "      <td>-0.179048</td>\n",
              "      <td>-0.397918</td>\n",
              "    </tr>\n",
              "    <tr>\n",
              "      <th>2</th>\n",
              "      <td>4.031848</td>\n",
              "      <td>-6.190135</td>\n",
              "      <td>-0.591438</td>\n",
              "      <td>-1.832399</td>\n",
              "      <td>0.409844</td>\n",
              "      <td>-0.790188</td>\n",
              "      <td>0.103882</td>\n",
              "    </tr>\n",
              "    <tr>\n",
              "      <th>3</th>\n",
              "      <td>-2.715778</td>\n",
              "      <td>0.302205</td>\n",
              "      <td>-0.968835</td>\n",
              "      <td>0.423444</td>\n",
              "      <td>0.809260</td>\n",
              "      <td>0.981932</td>\n",
              "      <td>1.060612</td>\n",
              "    </tr>\n",
              "    <tr>\n",
              "      <th>4</th>\n",
              "      <td>0.562806</td>\n",
              "      <td>0.357439</td>\n",
              "      <td>0.545970</td>\n",
              "      <td>-0.723757</td>\n",
              "      <td>-1.457427</td>\n",
              "      <td>0.003791</td>\n",
              "      <td>-0.020135</td>\n",
              "    </tr>\n",
              "    <tr>\n",
              "      <th>...</th>\n",
              "      <td>...</td>\n",
              "      <td>...</td>\n",
              "      <td>...</td>\n",
              "      <td>...</td>\n",
              "      <td>...</td>\n",
              "      <td>...</td>\n",
              "      <td>...</td>\n",
              "    </tr>\n",
              "    <tr>\n",
              "      <th>909599</th>\n",
              "      <td>3.156614</td>\n",
              "      <td>1.577054</td>\n",
              "      <td>-0.389591</td>\n",
              "      <td>-0.665949</td>\n",
              "      <td>0.470244</td>\n",
              "      <td>-0.664960</td>\n",
              "      <td>-1.240516</td>\n",
              "    </tr>\n",
              "    <tr>\n",
              "      <th>909600</th>\n",
              "      <td>-1.963339</td>\n",
              "      <td>-0.413626</td>\n",
              "      <td>-1.040631</td>\n",
              "      <td>-0.465985</td>\n",
              "      <td>0.402914</td>\n",
              "      <td>-0.335999</td>\n",
              "      <td>0.480738</td>\n",
              "    </tr>\n",
              "    <tr>\n",
              "      <th>909601</th>\n",
              "      <td>1.802108</td>\n",
              "      <td>0.453670</td>\n",
              "      <td>0.051951</td>\n",
              "      <td>-0.899072</td>\n",
              "      <td>0.473143</td>\n",
              "      <td>1.410836</td>\n",
              "      <td>-1.605279</td>\n",
              "    </tr>\n",
              "    <tr>\n",
              "      <th>909602</th>\n",
              "      <td>-2.186589</td>\n",
              "      <td>0.022413</td>\n",
              "      <td>-1.551523</td>\n",
              "      <td>-0.190128</td>\n",
              "      <td>-0.663333</td>\n",
              "      <td>-0.512325</td>\n",
              "      <td>0.354293</td>\n",
              "    </tr>\n",
              "    <tr>\n",
              "      <th>909603</th>\n",
              "      <td>-3.023833</td>\n",
              "      <td>0.862548</td>\n",
              "      <td>-0.959773</td>\n",
              "      <td>1.039917</td>\n",
              "      <td>2.281443</td>\n",
              "      <td>-1.043169</td>\n",
              "      <td>-1.054948</td>\n",
              "    </tr>\n",
              "  </tbody>\n",
              "</table>\n",
              "<p>909604 rows × 7 columns</p>\n",
              "</div>\n",
              "    <div class=\"colab-df-buttons\">\n",
              "\n",
              "  <div class=\"colab-df-container\">\n",
              "    <button class=\"colab-df-convert\" onclick=\"convertToInteractive('df-b3bd543a-56af-4df4-aaea-7cec60015f61')\"\n",
              "            title=\"Convert this dataframe to an interactive table.\"\n",
              "            style=\"display:none;\">\n",
              "\n",
              "  <svg xmlns=\"http://www.w3.org/2000/svg\" height=\"24px\" viewBox=\"0 -960 960 960\">\n",
              "    <path d=\"M120-120v-720h720v720H120Zm60-500h600v-160H180v160Zm220 220h160v-160H400v160Zm0 220h160v-160H400v160ZM180-400h160v-160H180v160Zm440 0h160v-160H620v160ZM180-180h160v-160H180v160Zm440 0h160v-160H620v160Z\"/>\n",
              "  </svg>\n",
              "    </button>\n",
              "\n",
              "  <style>\n",
              "    .colab-df-container {\n",
              "      display:flex;\n",
              "      gap: 12px;\n",
              "    }\n",
              "\n",
              "    .colab-df-convert {\n",
              "      background-color: #E8F0FE;\n",
              "      border: none;\n",
              "      border-radius: 50%;\n",
              "      cursor: pointer;\n",
              "      display: none;\n",
              "      fill: #1967D2;\n",
              "      height: 32px;\n",
              "      padding: 0 0 0 0;\n",
              "      width: 32px;\n",
              "    }\n",
              "\n",
              "    .colab-df-convert:hover {\n",
              "      background-color: #E2EBFA;\n",
              "      box-shadow: 0px 1px 2px rgba(60, 64, 67, 0.3), 0px 1px 3px 1px rgba(60, 64, 67, 0.15);\n",
              "      fill: #174EA6;\n",
              "    }\n",
              "\n",
              "    .colab-df-buttons div {\n",
              "      margin-bottom: 4px;\n",
              "    }\n",
              "\n",
              "    [theme=dark] .colab-df-convert {\n",
              "      background-color: #3B4455;\n",
              "      fill: #D2E3FC;\n",
              "    }\n",
              "\n",
              "    [theme=dark] .colab-df-convert:hover {\n",
              "      background-color: #434B5C;\n",
              "      box-shadow: 0px 1px 3px 1px rgba(0, 0, 0, 0.15);\n",
              "      filter: drop-shadow(0px 1px 2px rgba(0, 0, 0, 0.3));\n",
              "      fill: #FFFFFF;\n",
              "    }\n",
              "  </style>\n",
              "\n",
              "    <script>\n",
              "      const buttonEl =\n",
              "        document.querySelector('#df-b3bd543a-56af-4df4-aaea-7cec60015f61 button.colab-df-convert');\n",
              "      buttonEl.style.display =\n",
              "        google.colab.kernel.accessAllowed ? 'block' : 'none';\n",
              "\n",
              "      async function convertToInteractive(key) {\n",
              "        const element = document.querySelector('#df-b3bd543a-56af-4df4-aaea-7cec60015f61');\n",
              "        const dataTable =\n",
              "          await google.colab.kernel.invokeFunction('convertToInteractive',\n",
              "                                                    [key], {});\n",
              "        if (!dataTable) return;\n",
              "\n",
              "        const docLinkHtml = 'Like what you see? Visit the ' +\n",
              "          '<a target=\"_blank\" href=https://colab.research.google.com/notebooks/data_table.ipynb>data table notebook</a>'\n",
              "          + ' to learn more about interactive tables.';\n",
              "        element.innerHTML = '';\n",
              "        dataTable['output_type'] = 'display_data';\n",
              "        await google.colab.output.renderOutput(dataTable, element);\n",
              "        const docLink = document.createElement('div');\n",
              "        docLink.innerHTML = docLinkHtml;\n",
              "        element.appendChild(docLink);\n",
              "      }\n",
              "    </script>\n",
              "  </div>\n",
              "\n",
              "\n",
              "<div id=\"df-953835ab-55f3-4d8a-ad4f-ca350df304ec\">\n",
              "  <button class=\"colab-df-quickchart\" onclick=\"quickchart('df-953835ab-55f3-4d8a-ad4f-ca350df304ec')\"\n",
              "            title=\"Suggest charts\"\n",
              "            style=\"display:none;\">\n",
              "\n",
              "<svg xmlns=\"http://www.w3.org/2000/svg\" height=\"24px\"viewBox=\"0 0 24 24\"\n",
              "     width=\"24px\">\n",
              "    <g>\n",
              "        <path d=\"M19 3H5c-1.1 0-2 .9-2 2v14c0 1.1.9 2 2 2h14c1.1 0 2-.9 2-2V5c0-1.1-.9-2-2-2zM9 17H7v-7h2v7zm4 0h-2V7h2v10zm4 0h-2v-4h2v4z\"/>\n",
              "    </g>\n",
              "</svg>\n",
              "  </button>\n",
              "\n",
              "<style>\n",
              "  .colab-df-quickchart {\n",
              "      --bg-color: #E8F0FE;\n",
              "      --fill-color: #1967D2;\n",
              "      --hover-bg-color: #E2EBFA;\n",
              "      --hover-fill-color: #174EA6;\n",
              "      --disabled-fill-color: #AAA;\n",
              "      --disabled-bg-color: #DDD;\n",
              "  }\n",
              "\n",
              "  [theme=dark] .colab-df-quickchart {\n",
              "      --bg-color: #3B4455;\n",
              "      --fill-color: #D2E3FC;\n",
              "      --hover-bg-color: #434B5C;\n",
              "      --hover-fill-color: #FFFFFF;\n",
              "      --disabled-bg-color: #3B4455;\n",
              "      --disabled-fill-color: #666;\n",
              "  }\n",
              "\n",
              "  .colab-df-quickchart {\n",
              "    background-color: var(--bg-color);\n",
              "    border: none;\n",
              "    border-radius: 50%;\n",
              "    cursor: pointer;\n",
              "    display: none;\n",
              "    fill: var(--fill-color);\n",
              "    height: 32px;\n",
              "    padding: 0;\n",
              "    width: 32px;\n",
              "  }\n",
              "\n",
              "  .colab-df-quickchart:hover {\n",
              "    background-color: var(--hover-bg-color);\n",
              "    box-shadow: 0 1px 2px rgba(60, 64, 67, 0.3), 0 1px 3px 1px rgba(60, 64, 67, 0.15);\n",
              "    fill: var(--button-hover-fill-color);\n",
              "  }\n",
              "\n",
              "  .colab-df-quickchart-complete:disabled,\n",
              "  .colab-df-quickchart-complete:disabled:hover {\n",
              "    background-color: var(--disabled-bg-color);\n",
              "    fill: var(--disabled-fill-color);\n",
              "    box-shadow: none;\n",
              "  }\n",
              "\n",
              "  .colab-df-spinner {\n",
              "    border: 2px solid var(--fill-color);\n",
              "    border-color: transparent;\n",
              "    border-bottom-color: var(--fill-color);\n",
              "    animation:\n",
              "      spin 1s steps(1) infinite;\n",
              "  }\n",
              "\n",
              "  @keyframes spin {\n",
              "    0% {\n",
              "      border-color: transparent;\n",
              "      border-bottom-color: var(--fill-color);\n",
              "      border-left-color: var(--fill-color);\n",
              "    }\n",
              "    20% {\n",
              "      border-color: transparent;\n",
              "      border-left-color: var(--fill-color);\n",
              "      border-top-color: var(--fill-color);\n",
              "    }\n",
              "    30% {\n",
              "      border-color: transparent;\n",
              "      border-left-color: var(--fill-color);\n",
              "      border-top-color: var(--fill-color);\n",
              "      border-right-color: var(--fill-color);\n",
              "    }\n",
              "    40% {\n",
              "      border-color: transparent;\n",
              "      border-right-color: var(--fill-color);\n",
              "      border-top-color: var(--fill-color);\n",
              "    }\n",
              "    60% {\n",
              "      border-color: transparent;\n",
              "      border-right-color: var(--fill-color);\n",
              "    }\n",
              "    80% {\n",
              "      border-color: transparent;\n",
              "      border-right-color: var(--fill-color);\n",
              "      border-bottom-color: var(--fill-color);\n",
              "    }\n",
              "    90% {\n",
              "      border-color: transparent;\n",
              "      border-bottom-color: var(--fill-color);\n",
              "    }\n",
              "  }\n",
              "</style>\n",
              "\n",
              "  <script>\n",
              "    async function quickchart(key) {\n",
              "      const quickchartButtonEl =\n",
              "        document.querySelector('#' + key + ' button');\n",
              "      quickchartButtonEl.disabled = true;  // To prevent multiple clicks.\n",
              "      quickchartButtonEl.classList.add('colab-df-spinner');\n",
              "      try {\n",
              "        const charts = await google.colab.kernel.invokeFunction(\n",
              "            'suggestCharts', [key], {});\n",
              "      } catch (error) {\n",
              "        console.error('Error during call to suggestCharts:', error);\n",
              "      }\n",
              "      quickchartButtonEl.classList.remove('colab-df-spinner');\n",
              "      quickchartButtonEl.classList.add('colab-df-quickchart-complete');\n",
              "    }\n",
              "    (() => {\n",
              "      let quickchartButtonEl =\n",
              "        document.querySelector('#df-953835ab-55f3-4d8a-ad4f-ca350df304ec button');\n",
              "      quickchartButtonEl.style.display =\n",
              "        google.colab.kernel.accessAllowed ? 'block' : 'none';\n",
              "    })();\n",
              "  </script>\n",
              "</div>\n",
              "\n",
              "    </div>\n",
              "  </div>\n"
            ],
            "application/vnd.google.colaboratory.intrinsic+json": {
              "type": "dataframe"
            }
          },
          "metadata": {},
          "execution_count": 50
        }
      ]
    },
    {
      "cell_type": "markdown",
      "source": [
        "<hr>\n",
        "\n",
        "# **Step 7 - Modelling Phase**"
      ],
      "metadata": {
        "id": "LGYOhflB1pIo"
      }
    },
    {
      "cell_type": "markdown",
      "source": [
        "**Splitting the data**"
      ],
      "metadata": {
        "id": "YG-Rlnv21t1A"
      }
    },
    {
      "cell_type": "code",
      "source": [
        "x_train, x_test, y_train, y_test = train_test_split(pca_data, Y, test_size = 0.25, random_state = 30)"
      ],
      "metadata": {
        "id": "BkMxarEE0R6o"
      },
      "execution_count": 51,
      "outputs": []
    },
    {
      "cell_type": "markdown",
      "source": [
        "**Linear Regression**"
      ],
      "metadata": {
        "id": "MXFRBHUK17YL"
      }
    },
    {
      "cell_type": "code",
      "source": [
        "# initialize the model\n",
        "lr_model = LinearRegression()"
      ],
      "metadata": {
        "id": "cdmovvE615eW"
      },
      "execution_count": 52,
      "outputs": []
    },
    {
      "cell_type": "code",
      "source": [
        "# Fitting the data\n",
        "lr_model.fit(x_train, y_train)"
      ],
      "metadata": {
        "colab": {
          "base_uri": "https://localhost:8080/",
          "height": 74
        },
        "id": "fJen7vmi2Buf",
        "outputId": "4622059f-ea28-43ef-8ea4-1d60ca1db74d"
      },
      "execution_count": 53,
      "outputs": [
        {
          "output_type": "execute_result",
          "data": {
            "text/plain": [
              "LinearRegression()"
            ],
            "text/html": [
              "<style>#sk-container-id-1 {color: black;background-color: white;}#sk-container-id-1 pre{padding: 0;}#sk-container-id-1 div.sk-toggleable {background-color: white;}#sk-container-id-1 label.sk-toggleable__label {cursor: pointer;display: block;width: 100%;margin-bottom: 0;padding: 0.3em;box-sizing: border-box;text-align: center;}#sk-container-id-1 label.sk-toggleable__label-arrow:before {content: \"▸\";float: left;margin-right: 0.25em;color: #696969;}#sk-container-id-1 label.sk-toggleable__label-arrow:hover:before {color: black;}#sk-container-id-1 div.sk-estimator:hover label.sk-toggleable__label-arrow:before {color: black;}#sk-container-id-1 div.sk-toggleable__content {max-height: 0;max-width: 0;overflow: hidden;text-align: left;background-color: #f0f8ff;}#sk-container-id-1 div.sk-toggleable__content pre {margin: 0.2em;color: black;border-radius: 0.25em;background-color: #f0f8ff;}#sk-container-id-1 input.sk-toggleable__control:checked~div.sk-toggleable__content {max-height: 200px;max-width: 100%;overflow: auto;}#sk-container-id-1 input.sk-toggleable__control:checked~label.sk-toggleable__label-arrow:before {content: \"▾\";}#sk-container-id-1 div.sk-estimator input.sk-toggleable__control:checked~label.sk-toggleable__label {background-color: #d4ebff;}#sk-container-id-1 div.sk-label input.sk-toggleable__control:checked~label.sk-toggleable__label {background-color: #d4ebff;}#sk-container-id-1 input.sk-hidden--visually {border: 0;clip: rect(1px 1px 1px 1px);clip: rect(1px, 1px, 1px, 1px);height: 1px;margin: -1px;overflow: hidden;padding: 0;position: absolute;width: 1px;}#sk-container-id-1 div.sk-estimator {font-family: monospace;background-color: #f0f8ff;border: 1px dotted black;border-radius: 0.25em;box-sizing: border-box;margin-bottom: 0.5em;}#sk-container-id-1 div.sk-estimator:hover {background-color: #d4ebff;}#sk-container-id-1 div.sk-parallel-item::after {content: \"\";width: 100%;border-bottom: 1px solid gray;flex-grow: 1;}#sk-container-id-1 div.sk-label:hover label.sk-toggleable__label {background-color: #d4ebff;}#sk-container-id-1 div.sk-serial::before {content: \"\";position: absolute;border-left: 1px solid gray;box-sizing: border-box;top: 0;bottom: 0;left: 50%;z-index: 0;}#sk-container-id-1 div.sk-serial {display: flex;flex-direction: column;align-items: center;background-color: white;padding-right: 0.2em;padding-left: 0.2em;position: relative;}#sk-container-id-1 div.sk-item {position: relative;z-index: 1;}#sk-container-id-1 div.sk-parallel {display: flex;align-items: stretch;justify-content: center;background-color: white;position: relative;}#sk-container-id-1 div.sk-item::before, #sk-container-id-1 div.sk-parallel-item::before {content: \"\";position: absolute;border-left: 1px solid gray;box-sizing: border-box;top: 0;bottom: 0;left: 50%;z-index: -1;}#sk-container-id-1 div.sk-parallel-item {display: flex;flex-direction: column;z-index: 1;position: relative;background-color: white;}#sk-container-id-1 div.sk-parallel-item:first-child::after {align-self: flex-end;width: 50%;}#sk-container-id-1 div.sk-parallel-item:last-child::after {align-self: flex-start;width: 50%;}#sk-container-id-1 div.sk-parallel-item:only-child::after {width: 0;}#sk-container-id-1 div.sk-dashed-wrapped {border: 1px dashed gray;margin: 0 0.4em 0.5em 0.4em;box-sizing: border-box;padding-bottom: 0.4em;background-color: white;}#sk-container-id-1 div.sk-label label {font-family: monospace;font-weight: bold;display: inline-block;line-height: 1.2em;}#sk-container-id-1 div.sk-label-container {text-align: center;}#sk-container-id-1 div.sk-container {/* jupyter's `normalize.less` sets `[hidden] { display: none; }` but bootstrap.min.css set `[hidden] { display: none !important; }` so we also need the `!important` here to be able to override the default hidden behavior on the sphinx rendered scikit-learn.org. See: https://github.com/scikit-learn/scikit-learn/issues/21755 */display: inline-block !important;position: relative;}#sk-container-id-1 div.sk-text-repr-fallback {display: none;}</style><div id=\"sk-container-id-1\" class=\"sk-top-container\"><div class=\"sk-text-repr-fallback\"><pre>LinearRegression()</pre><b>In a Jupyter environment, please rerun this cell to show the HTML representation or trust the notebook. <br />On GitHub, the HTML representation is unable to render, please try loading this page with nbviewer.org.</b></div><div class=\"sk-container\" hidden><div class=\"sk-item\"><div class=\"sk-estimator sk-toggleable\"><input class=\"sk-toggleable__control sk-hidden--visually\" id=\"sk-estimator-id-1\" type=\"checkbox\" checked><label for=\"sk-estimator-id-1\" class=\"sk-toggleable__label sk-toggleable__label-arrow\">LinearRegression</label><div class=\"sk-toggleable__content\"><pre>LinearRegression()</pre></div></div></div></div></div>"
            ]
          },
          "metadata": {},
          "execution_count": 53
        }
      ]
    },
    {
      "cell_type": "code",
      "source": [
        "# Predict\n",
        "pred = lr_model.predict(x_test)"
      ],
      "metadata": {
        "id": "Vrl21ao22HAu"
      },
      "execution_count": 55,
      "outputs": []
    },
    {
      "cell_type": "markdown",
      "source": [
        "**Helper function for evaluation**"
      ],
      "metadata": {
        "id": "iyh7N3rf3bmg"
      }
    },
    {
      "cell_type": "code",
      "source": [
        "def evaluation(y_test_values, prediction_values):\n",
        "  mse = mean_squared_error(y_test_values, prediction_values)\n",
        "  print(f\"MSE: {mse}\")\n",
        "  rmse = np.sqrt(mse)\n",
        "  print(f\"RMSE: {rmse}\")\n",
        "  r2 = r2_score(y_test_values, prediction_values)\n",
        "  print(f\"R2_Score: {r2}\")\n",
        "  mape = mean_absolute_percentage_error(y_test_values, prediction_values)\n",
        "  print(f\"MAPE: {mape}\")"
      ],
      "metadata": {
        "id": "zr2Us68T2MxB"
      },
      "execution_count": 59,
      "outputs": []
    },
    {
      "cell_type": "markdown",
      "source": [
        "**Evaluation of LR**"
      ],
      "metadata": {
        "id": "8K7hyoAV3z7A"
      }
    },
    {
      "cell_type": "code",
      "source": [
        "evaluation(y_test, pred)"
      ],
      "metadata": {
        "colab": {
          "base_uri": "https://localhost:8080/"
        },
        "id": "naTO6rRJ3x6Z",
        "outputId": "c3d49e9f-21d2-4345-c5a8-8685c61308db"
      },
      "execution_count": 60,
      "outputs": [
        {
          "output_type": "stream",
          "name": "stdout",
          "text": [
            "MSE: 4.152671591367057\n",
            "RMSE: 2.0378104895615436\n",
            "R2_Score: 0.39266396456141694\n",
            "MAPE: 0.03086175326773496\n"
          ]
        }
      ]
    },
    {
      "cell_type": "markdown",
      "source": [
        "<hr>\n",
        "\n",
        "**Decision Tree Regressor**"
      ],
      "metadata": {
        "id": "2g3okoH84PyP"
      }
    },
    {
      "cell_type": "code",
      "source": [
        "model_DT = DecisionTreeRegressor()"
      ],
      "metadata": {
        "id": "S82_fLa733dn"
      },
      "execution_count": 61,
      "outputs": []
    },
    {
      "cell_type": "code",
      "source": [
        "# Fitting the data\n",
        "model_DT.fit(x_train, y_train)"
      ],
      "metadata": {
        "colab": {
          "base_uri": "https://localhost:8080/",
          "height": 74
        },
        "outputId": "c9bfd8b8-4d16-4ed6-e2f4-fcfc34a11244",
        "id": "YitAJlXQ4dt8"
      },
      "execution_count": 62,
      "outputs": [
        {
          "output_type": "execute_result",
          "data": {
            "text/plain": [
              "DecisionTreeRegressor()"
            ],
            "text/html": [
              "<style>#sk-container-id-2 {color: black;background-color: white;}#sk-container-id-2 pre{padding: 0;}#sk-container-id-2 div.sk-toggleable {background-color: white;}#sk-container-id-2 label.sk-toggleable__label {cursor: pointer;display: block;width: 100%;margin-bottom: 0;padding: 0.3em;box-sizing: border-box;text-align: center;}#sk-container-id-2 label.sk-toggleable__label-arrow:before {content: \"▸\";float: left;margin-right: 0.25em;color: #696969;}#sk-container-id-2 label.sk-toggleable__label-arrow:hover:before {color: black;}#sk-container-id-2 div.sk-estimator:hover label.sk-toggleable__label-arrow:before {color: black;}#sk-container-id-2 div.sk-toggleable__content {max-height: 0;max-width: 0;overflow: hidden;text-align: left;background-color: #f0f8ff;}#sk-container-id-2 div.sk-toggleable__content pre {margin: 0.2em;color: black;border-radius: 0.25em;background-color: #f0f8ff;}#sk-container-id-2 input.sk-toggleable__control:checked~div.sk-toggleable__content {max-height: 200px;max-width: 100%;overflow: auto;}#sk-container-id-2 input.sk-toggleable__control:checked~label.sk-toggleable__label-arrow:before {content: \"▾\";}#sk-container-id-2 div.sk-estimator input.sk-toggleable__control:checked~label.sk-toggleable__label {background-color: #d4ebff;}#sk-container-id-2 div.sk-label input.sk-toggleable__control:checked~label.sk-toggleable__label {background-color: #d4ebff;}#sk-container-id-2 input.sk-hidden--visually {border: 0;clip: rect(1px 1px 1px 1px);clip: rect(1px, 1px, 1px, 1px);height: 1px;margin: -1px;overflow: hidden;padding: 0;position: absolute;width: 1px;}#sk-container-id-2 div.sk-estimator {font-family: monospace;background-color: #f0f8ff;border: 1px dotted black;border-radius: 0.25em;box-sizing: border-box;margin-bottom: 0.5em;}#sk-container-id-2 div.sk-estimator:hover {background-color: #d4ebff;}#sk-container-id-2 div.sk-parallel-item::after {content: \"\";width: 100%;border-bottom: 1px solid gray;flex-grow: 1;}#sk-container-id-2 div.sk-label:hover label.sk-toggleable__label {background-color: #d4ebff;}#sk-container-id-2 div.sk-serial::before {content: \"\";position: absolute;border-left: 1px solid gray;box-sizing: border-box;top: 0;bottom: 0;left: 50%;z-index: 0;}#sk-container-id-2 div.sk-serial {display: flex;flex-direction: column;align-items: center;background-color: white;padding-right: 0.2em;padding-left: 0.2em;position: relative;}#sk-container-id-2 div.sk-item {position: relative;z-index: 1;}#sk-container-id-2 div.sk-parallel {display: flex;align-items: stretch;justify-content: center;background-color: white;position: relative;}#sk-container-id-2 div.sk-item::before, #sk-container-id-2 div.sk-parallel-item::before {content: \"\";position: absolute;border-left: 1px solid gray;box-sizing: border-box;top: 0;bottom: 0;left: 50%;z-index: -1;}#sk-container-id-2 div.sk-parallel-item {display: flex;flex-direction: column;z-index: 1;position: relative;background-color: white;}#sk-container-id-2 div.sk-parallel-item:first-child::after {align-self: flex-end;width: 50%;}#sk-container-id-2 div.sk-parallel-item:last-child::after {align-self: flex-start;width: 50%;}#sk-container-id-2 div.sk-parallel-item:only-child::after {width: 0;}#sk-container-id-2 div.sk-dashed-wrapped {border: 1px dashed gray;margin: 0 0.4em 0.5em 0.4em;box-sizing: border-box;padding-bottom: 0.4em;background-color: white;}#sk-container-id-2 div.sk-label label {font-family: monospace;font-weight: bold;display: inline-block;line-height: 1.2em;}#sk-container-id-2 div.sk-label-container {text-align: center;}#sk-container-id-2 div.sk-container {/* jupyter's `normalize.less` sets `[hidden] { display: none; }` but bootstrap.min.css set `[hidden] { display: none !important; }` so we also need the `!important` here to be able to override the default hidden behavior on the sphinx rendered scikit-learn.org. See: https://github.com/scikit-learn/scikit-learn/issues/21755 */display: inline-block !important;position: relative;}#sk-container-id-2 div.sk-text-repr-fallback {display: none;}</style><div id=\"sk-container-id-2\" class=\"sk-top-container\"><div class=\"sk-text-repr-fallback\"><pre>DecisionTreeRegressor()</pre><b>In a Jupyter environment, please rerun this cell to show the HTML representation or trust the notebook. <br />On GitHub, the HTML representation is unable to render, please try loading this page with nbviewer.org.</b></div><div class=\"sk-container\" hidden><div class=\"sk-item\"><div class=\"sk-estimator sk-toggleable\"><input class=\"sk-toggleable__control sk-hidden--visually\" id=\"sk-estimator-id-2\" type=\"checkbox\" checked><label for=\"sk-estimator-id-2\" class=\"sk-toggleable__label sk-toggleable__label-arrow\">DecisionTreeRegressor</label><div class=\"sk-toggleable__content\"><pre>DecisionTreeRegressor()</pre></div></div></div></div></div>"
            ]
          },
          "metadata": {},
          "execution_count": 62
        }
      ]
    },
    {
      "cell_type": "code",
      "source": [
        "# Predict\n",
        "pred = model_DT.predict(x_test)"
      ],
      "metadata": {
        "id": "CSIGe2f94dt9"
      },
      "execution_count": 63,
      "outputs": []
    },
    {
      "cell_type": "code",
      "source": [
        "evaluation(y_test, pred)"
      ],
      "metadata": {
        "colab": {
          "base_uri": "https://localhost:8080/"
        },
        "id": "c3ud8h0a4cJm",
        "outputId": "eaa93dbd-49e1-4f72-d0be-132829fcc294"
      },
      "execution_count": 64,
      "outputs": [
        {
          "output_type": "stream",
          "name": "stdout",
          "text": [
            "MSE: 4.747060514876429\n",
            "RMSE: 2.178775003270514\n",
            "R2_Score: 0.3057334658763644\n",
            "MAPE: 0.02868403621157853\n"
          ]
        }
      ]
    },
    {
      "cell_type": "markdown",
      "source": [
        "**For the random Forest**"
      ],
      "metadata": {
        "id": "f00aGvtx45K0"
      }
    },
    {
      "cell_type": "code",
      "source": [
        "model_RF = RandomForestRegressor()\n",
        "\n",
        "model_RF.fit(x_train, y_train)\n",
        "# Predict\n",
        "pred = model_RF.predict(x_test)"
      ],
      "metadata": {
        "id": "mv0lzfWl4koX"
      },
      "execution_count": null,
      "outputs": []
    },
    {
      "cell_type": "code",
      "source": [],
      "metadata": {
        "id": "mXiGX5zV44hD"
      },
      "execution_count": null,
      "outputs": []
    }
  ]
}